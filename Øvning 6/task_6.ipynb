{
 "cells": [
  {
   "cell_type": "code",
   "execution_count": 75,
   "id": "6c7eeb6b-c715-4f3a-9535-ede7bb7a6fcb",
   "metadata": {},
   "outputs": [],
   "source": [
    "import pandas as pd\n",
    "import matplotlib.pyplot as plt\n",
    "import numpy as np\n",
    "\n",
    "# Load the iris data\n",
    "df = pd.read_csv(\"agaricus-lepiota.csv\")\n",
    "\n",
    "# Replace letters with unique dummy values which are either 0.0 or 1.0\n",
    "x = pd.get_dummies(df, prefix=None, prefix_sep='_')\n",
    "y = pd.get_dummies(df['edibility'], prefix=None, prefix_sep='_')"
   ]
  },
  {
   "cell_type": "code",
   "execution_count": 91,
   "id": "2d4d608d-a1ee-4b60-9eb2-bc92adf578dd",
   "metadata": {},
   "outputs": [
    {
     "name": "stdout",
     "output_type": "stream",
     "text": [
      "X shape: (8124, 119)\n",
      "skb shape: (8124, 5)\n",
      "Features with max variance: edibility_e, edibility_p, odor_f, odor_n, stalk-surface-above-ring_k\n"
     ]
    }
   ],
   "source": [
    "from sklearn import decomposition\n",
    "from sklearn.feature_selection import SelectKBest\n",
    "from sklearn.feature_selection import chi2\n",
    "\n",
    "# Print the shape of our original data\n",
    "print(\"X shape:\", x.shape)\n",
    "\n",
    "# Perform skb on the datasets\n",
    "skb = SelectKBest(chi2, k=5)\n",
    "skb.fit(x, y)\n",
    "x_new = skb.transform(x)\n",
    "\n",
    "# Print the shape of the data after SKB\n",
    "print(\"skb shape:\", x_new.shape)\n",
    "\n",
    "selected = [dummies.columns[i] for i in skb.get_support(indices=True)]\n",
    "print(\"Features with max variance:\", \", \".join(selected))"
   ]
  },
  {
   "cell_type": "code",
   "execution_count": 92,
   "id": "ab1623ed-072a-4480-ab65-c558674d3b9e",
   "metadata": {},
   "outputs": [
    {
     "name": "stdout",
     "output_type": "stream",
     "text": [
      "Original space: (8124, 119)\n",
      "PCA space: (8124, 5)\n",
      "Features with max variance: edibility_p, stalk-root_b, habitat_g, stalk-shape_t, odor_n\n"
     ]
    }
   ],
   "source": [
    "import numpy as np\n",
    "from sklearn import decomposition\n",
    "from sklearn import datasets\n",
    "\n",
    "# Print out the original datas shape\n",
    "print(\"Original space:\",x.shape)\n",
    "\n",
    "# Perform PCA and print finished data shape\n",
    "pca = decomposition.PCA(n_components=5)\n",
    "pca.fit(x)\n",
    "Xpca = pca.transform(x)\n",
    "print(\"PCA space:\",Xpca.shape)\n",
    "\n",
    "# Fetch the features with the most variance\n",
    "features = [pca.components_[i].argmax() for i in range(Xpca.shape[1])]\n",
    "\n",
    "# Find the names of the features and return them\n",
    "feature_names = [x.columns[features[i]] for i in range(Xpca.shape[1])]\n",
    "print(\"Features with max variance:\", \", \".join(feature_names))"
   ]
  },
  {
   "cell_type": "code",
   "execution_count": 93,
   "id": "69882c1c-f95f-4068-be72-d9e610a92f12",
   "metadata": {},
   "outputs": [
    {
     "name": "stdout",
     "output_type": "stream",
     "text": [
      "SBK: edibility_e, edibility_p, odor_f, odor_n, stalk-surface-above-ring_k\n",
      "PCA: edibility_p, stalk-root_b, habitat_g, stalk-shape_t, odor_n\n",
      "\n",
      "\n",
      "overlap: edibility_p, odor_n\n"
     ]
    }
   ],
   "source": [
    "print(\"SBK:\", \", \".join(selected))\n",
    "print(\"PCA:\", \", \".join(feature_names))\n",
    "\n",
    "set1 = set(selected)\n",
    "set2 = set(feature_names)\n",
    "print(\"\\n\\noverlap:\", \", \".join(set1.intersection(set2)))"
   ]
  },
  {
   "cell_type": "code",
   "execution_count": null,
   "id": "9a2fbacc-f672-4c6a-a07f-54dc95018937",
   "metadata": {},
   "outputs": [],
   "source": []
  }
 ],
 "metadata": {
  "kernelspec": {
   "display_name": "Python 3 (ipykernel)",
   "language": "python",
   "name": "python3"
  },
  "language_info": {
   "codemirror_mode": {
    "name": "ipython",
    "version": 3
   },
   "file_extension": ".py",
   "mimetype": "text/x-python",
   "name": "python",
   "nbconvert_exporter": "python",
   "pygments_lexer": "ipython3",
   "version": "3.10.8"
  }
 },
 "nbformat": 4,
 "nbformat_minor": 5
}
